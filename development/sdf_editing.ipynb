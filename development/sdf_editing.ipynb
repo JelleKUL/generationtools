{
 "cells": [
  {
   "cell_type": "markdown",
   "metadata": {},
   "source": [
    "# SDF Editing Step-By-Step"
   ]
  },
  {
   "cell_type": "markdown",
   "metadata": {},
   "source": [
    "## Loading the Mesh"
   ]
  },
  {
   "cell_type": "code",
   "execution_count": null,
   "metadata": {},
   "outputs": [],
   "source": [
    "%load_ext autoreload\n",
    "%autoreload 2\n",
    "import numpy as np\n",
    "import trimesh\n",
    "\n",
    "mesh  = trimesh.load(r\"../data\\bookcase.glb\", force='mesh')\n",
    "#mesh  = trimesh.load(r\"../data\\completionchair\\CompletionChair.obj\")\n",
    "#mesh.show()"
   ]
  },
  {
   "cell_type": "markdown",
   "metadata": {},
   "source": [
    "## Creating an SDF"
   ]
  },
  {
   "cell_type": "code",
   "execution_count": null,
   "metadata": {},
   "outputs": [],
   "source": [
    "from context import generationtools as gnt\n",
    "size = 96\n",
    "sdf,sdfMesh = gnt.mesh_to_sdf_tensor(gnt.as_mesh(mesh), size, recenter=True, scaledownFactor=8)\n",
    "gnt.sdf_to_mesh(sdf, 1/size).show() # for visualisation, convert to marching cubes mesh"
   ]
  },
  {
   "cell_type": "markdown",
   "metadata": {},
   "source": [
    "## Creating a colored voxelgrid"
   ]
  },
  {
   "cell_type": "code",
   "execution_count": 63,
   "metadata": {},
   "outputs": [],
   "source": [
    "voxelMesh, colorGrid, voxelScale = gnt.mesh_to_voxelgrid_trimesh(mesh, resolution = size)"
   ]
  },
  {
   "cell_type": "code",
   "execution_count": null,
   "metadata": {},
   "outputs": [],
   "source": [
    "voxelMesh.as_boxes(colors=colorGrid).show()\n",
    "#voxelMesh.marching_cubes.show()"
   ]
  },
  {
   "cell_type": "markdown",
   "metadata": {},
   "source": [
    "## Get colors"
   ]
  },
  {
   "cell_type": "code",
   "execution_count": null,
   "metadata": {},
   "outputs": [],
   "source": [
    "# Generate voxel grid coordinates\n",
    "voxel_grid = gnt.create_voxel_grid(size, True)\n",
    "print(voxel_grid.shape)"
   ]
  },
  {
   "cell_type": "code",
   "execution_count": null,
   "metadata": {},
   "outputs": [],
   "source": [
    "# Get the color for each point in the voxel grid\n",
    "colors = gnt.get_point_colors_trimesh(sdfMesh, voxel_grid.reshape(-1,3))\n",
    "print(colors.shape)\n",
    "colors = colors.reshape(size,size,size,4)"
   ]
  },
  {
   "cell_type": "markdown",
   "metadata": {},
   "source": [
    "### Plot the colors where the SDF distance is < 0"
   ]
  },
  {
   "cell_type": "code",
   "execution_count": null,
   "metadata": {},
   "outputs": [],
   "source": [
    "import numpy as np\n",
    "import matplotlib.pyplot as plt\n",
    "from mpl_toolkits.mplot3d import Axes3D\n",
    "# Plot the voxel grid\n",
    "fig = plt.figure(figsize=(10, 8))\n",
    "ax = fig.add_subplot(111, projection='3d')\n",
    "filled = np.where(sdf<0,1,0)\n",
    "ax.voxels(filled, facecolors=colors/255, edgecolor='k', linewidth=0.2)\n",
    "\n",
    "# Set labels\n",
    "ax.set_xlabel('X')\n",
    "ax.set_ylabel('Y')\n",
    "ax.set_zlabel('Z')\n",
    "ax.view_init(elev=30, azim=30)\n",
    "# Show plot\n",
    "plt.show()"
   ]
  },
  {
   "cell_type": "markdown",
   "metadata": {},
   "source": [
    "## Global non-uniform scaling"
   ]
  },
  {
   "cell_type": "code",
   "execution_count": null,
   "metadata": {},
   "outputs": [],
   "source": [
    "import numpy as np\n",
    "from scipy.interpolate import interp1d\n",
    "\n",
    "#pick a slice\n",
    "oldRange = sdf.shape[0]\n",
    "newRange = oldRange * 2\n",
    "# Original and new coordinates along the m-axis\n",
    "original_m = np.linspace(0, 1, oldRange)  # Normalized original m-axis (0 to 1)\n",
    "new_m_coords = np.linspace(0, 1, newRange)  # Normalized new m-axis (0 to 1)\n",
    "\n",
    "# Interpolate along the m-axis for each n x n slice\n",
    "interpolated_array = np.empty((newRange, sdf.shape[1], sdf.shape[2]))\n",
    "for i in range( sdf.shape[1]):\n",
    "    for j in range(sdf.shape[2]):\n",
    "        # Interpolate along the m-axis for each (i, j) point\n",
    "        interp_func = interp1d(original_m, sdf[:, i, j], kind='linear', bounds_error=False, fill_value=\"extrapolate\")\n",
    "        interpolated_array[:, i, j] = interp_func(new_m_coords)\n",
    "\n",
    "# Check the result\n",
    "print(\"Original shape: \\n\", sdf.shape)\n",
    "print(\"Interpolated shape: \\n\", interpolated_array.shape)"
   ]
  },
  {
   "cell_type": "code",
   "execution_count": null,
   "metadata": {},
   "outputs": [],
   "source": [
    "new_mesh = gnt.sdf_to_mesh(interpolated_array, 1/size)\n",
    "new_mesh.show()"
   ]
  },
  {
   "cell_type": "markdown",
   "metadata": {},
   "source": [
    "## Defining The range"
   ]
  },
  {
   "cell_type": "code",
   "execution_count": null,
   "metadata": {},
   "outputs": [],
   "source": [
    "#Set the positions and axis for the planes\n",
    "startEndRange = np.array([0.5,0.65])  # Positions along the chosen axis normalised from 0 to 1\n",
    "axis = 2  # Axis for the planes ('x', 'y', or 'z')\n",
    "\n",
    "\n",
    "# Create the planes\n",
    "planes = [gnt.create_transparent_plane(pos, axis=axis, size = 1) for pos in startEndRange]\n",
    "\n",
    "# Create a scene and add the mesh and planes\n",
    "scene = trimesh.Scene()\n",
    "scene.add_geometry(gnt.sdf_to_mesh(sdf, 1/size))\n",
    "for plane in planes:\n",
    "    scene.add_geometry(plane)\n",
    "\n",
    "# Show the scene\n",
    "scene.show()"
   ]
  },
  {
   "cell_type": "markdown",
   "metadata": {},
   "source": [
    "## Range Interpolating"
   ]
  },
  {
   "cell_type": "code",
   "execution_count": null,
   "metadata": {},
   "outputs": [],
   "source": [
    "interpolated_sdf = gnt.interpolate_value_range(sdf,2, np.floor(startEndRange*96).astype(int), 96)\n",
    "#interpolated_colors = interpolate_range(colors, [10,20], 42)\n",
    "new_mesh = gnt.sdf_to_mesh(interpolated_sdf, 1/size)\n",
    "new_mesh.show()"
   ]
  },
  {
   "cell_type": "code",
   "execution_count": null,
   "metadata": {},
   "outputs": [],
   "source": [
    "import numpy as np\n",
    "import matplotlib.pyplot as plt\n",
    "from mpl_toolkits.mplot3d import Axes3D\n",
    "# Plot the voxel grid\n",
    "fig = plt.figure(figsize=(10, 8))\n",
    "ax = fig.add_subplot(111, projection='3d')\n",
    "filled = np.where(interpolated_sdf<0,1,0)\n",
    "ax.voxels(filled, facecolors=interpolated_colors/255, edgecolor='k', linewidth=0.2)\n",
    "\n",
    "# Set labels\n",
    "ax.set_xlabel('X')\n",
    "ax.set_ylabel('Y')\n",
    "ax.set_zlabel('Z')\n",
    "ax.view_init(elev=30, azim=30)\n",
    "# Show plot\n",
    "plt.show()"
   ]
  },
  {
   "cell_type": "markdown",
   "metadata": {},
   "source": [
    "## Range value repeating\n",
    "Scaling an object on a specific axis, repeatingt the selected part a number of times"
   ]
  },
  {
   "cell_type": "code",
   "execution_count": null,
   "metadata": {},
   "outputs": [],
   "source": [
    "#pick a slice\n",
    "repeatRange = np.floor(startEndRange*96).astype(int)\n",
    "nrOfRepeats = 10\n",
    "# Create a new sdf with the repeated ranges\n",
    "result_array = gnt.repeat_value_range(sdf, axis, repeatRange, nrOfRepeats)\n",
    "\n",
    "new_mesh = gnt.sdf_to_mesh(result_array, 1/size)\n",
    "new_mesh.show()"
   ]
  },
  {
   "cell_type": "code",
   "execution_count": null,
   "metadata": {},
   "outputs": [],
   "source": [
    "import numpy as np\n",
    "from skimage.measure import marching_cubes\n",
    "import trimesh\n",
    "\n",
    "\n",
    "# Generate the mesh using marching_cubes\n",
    "vertices, faces, _, _ = marching_cubes(sdf, level=0)\n",
    "\n",
    "# Interpolate vertex colors\n",
    "vertex_colors = gnt.interpolate_vertex_colors(vertices, colors)\n",
    "\n",
    "# Create a Trimesh object with vertex colors\n",
    "mesh = trimesh.Trimesh(vertices=vertices, faces=faces, vertex_colors=vertex_colors)\n",
    "\n",
    "# Visualize the mesh\n",
    "mesh.show()"
   ]
  },
  {
   "cell_type": "markdown",
   "metadata": {},
   "source": [
    "# Full Workflow"
   ]
  },
  {
   "cell_type": "markdown",
   "metadata": {},
   "source": [
    "## Data Preparation"
   ]
  },
  {
   "cell_type": "code",
   "execution_count": null,
   "metadata": {},
   "outputs": [],
   "source": [
    "%load_ext autoreload\n",
    "%autoreload 2\n",
    "import numpy as np\n",
    "import trimesh\n",
    "from context import generationtools as gnt\n",
    "\n",
    "meshPath = r\"../data\\completionchair\\CompletionChair.obj\"\n",
    "voxelResolution = 64 # The resolution of the voxelgrid\n",
    "\n",
    "# load the mesh\n",
    "mesh  = trimesh.load(meshPath)\n",
    "# convert to SDF\n",
    "sdf,normalized_mesh = gnt.mesh_to_sdf_tensor(gnt.as_mesh(mesh), voxelResolution, recenter=True, scaledownFactor=0.85)\n",
    "# Get the colors\n",
    "voxel_grid = gnt.create_voxel_grid(voxelResolution, True)\n",
    "colors = gnt.get_point_colors_trimesh(normalized_mesh, voxel_grid.reshape(-1,3)).reshape(voxelResolution,voxelResolution,voxelResolution,4)\n",
    "\n"
   ]
  },
  {
   "cell_type": "markdown",
   "metadata": {},
   "source": [
    "### Sampling Check *OPTIONAL*"
   ]
  },
  {
   "cell_type": "code",
   "execution_count": null,
   "metadata": {},
   "outputs": [],
   "source": [
    "# OPTIONAL Evaluate the colors in the SDF mesh\n",
    "marching_mesh = gnt.sdf_to_mesh(sdf, 1/voxelResolution, True)\n",
    "# Interpolate vertex colors\n",
    "vertex_colors = gnt.interpolate_vertex_colors(marching_mesh.vertices, colors)\n",
    "# Create a Trimesh object with vertex colors\n",
    "mesh = trimesh.Trimesh(vertices=marching_mesh.vertices, faces=marching_mesh.faces, vertex_colors=vertex_colors[:,:3])\n",
    "# Visualize the mesh\n",
    "mesh.show()"
   ]
  },
  {
   "cell_type": "markdown",
   "metadata": {},
   "source": [
    "## Defining the SelectionPlanes"
   ]
  },
  {
   "cell_type": "code",
   "execution_count": null,
   "metadata": {},
   "outputs": [],
   "source": [
    "startEndRange = np.array([0.45,0.55]) # Positions along the chosen axis normalised from 0 to 1\n",
    "axis = 0 # Axis for the planes ('x:0', 'y:1', or 'z:2')\n",
    "# Create the planes\n",
    "planes = [gnt.create_transparent_plane(pos, axis=axis, size = 1) for pos in startEndRange]\n",
    "# Create a scene and add the mesh and planes\n",
    "scene = trimesh.Scene()\n",
    "scene.add_geometry(gnt.sdf_to_mesh(sdf, 1/voxelResolution, center = True))\n",
    "scene.add_geometry(sdfMesh)\n",
    "for plane in planes:\n",
    "    scene.add_geometry(plane)\n",
    "print(sdf.shape)\n",
    "# Show the scene\n",
    "scene.show()"
   ]
  },
  {
   "cell_type": "markdown",
   "metadata": {},
   "source": [
    "## Scaling the selection"
   ]
  },
  {
   "cell_type": "code",
   "execution_count": null,
   "metadata": {},
   "outputs": [],
   "source": [
    "newScaleFactor = 10 # factor to which to scale the selected zone can be any positive number\n",
    "interpolated_sdf = gnt.interpolate_value_range(\n",
    "    sdf,\n",
    "    axis, \n",
    "    np.floor(startEndRange*voxelResolution).astype(int), \n",
    "    np.floor((startEndRange[1]-startEndRange[0]) * voxelResolution * newScaleFactor).astype(int)\n",
    "    )\n",
    "# Interpolate the colors\n",
    "interpolated_colors = gnt.interpolate_value_range(\n",
    "    colors,\n",
    "    axis, \n",
    "    np.floor(startEndRange*voxelResolution).astype(int), \n",
    "    np.floor((startEndRange[1]-startEndRange[0]) * voxelResolution * newScaleFactor).astype(int)\n",
    "    )\n",
    "interpolated_mesh = gnt.create_colored_mesh_from_sdf_and_colors(interpolated_sdf, interpolated_colors)\n",
    "interpolated_mesh.show()"
   ]
  },
  {
   "cell_type": "markdown",
   "metadata": {},
   "source": [
    "## Repeating the selection"
   ]
  },
  {
   "cell_type": "code",
   "execution_count": null,
   "metadata": {},
   "outputs": [],
   "source": [
    "nrOfRepeats = 10\n",
    "# Create a new sdf with the repeated ranges\n",
    "repeated_sdf = gnt.repeat_value_range(sdf, axis, np.floor(startEndRange*voxelResolution).astype(int), nrOfRepeats)\n",
    "repeated_colors = gnt.repeat_value_range(colors, axis, np.floor(startEndRange*voxelResolution).astype(int), nrOfRepeats)\n",
    "repeated_mesh = gnt.create_colored_mesh_from_sdf_and_colors(repeated_sdf, repeated_colors)\n",
    "repeated_mesh.show()"
   ]
  }
 ],
 "metadata": {
  "kernelspec": {
   "display_name": "env",
   "language": "python",
   "name": "python3"
  },
  "language_info": {
   "codemirror_mode": {
    "name": "ipython",
    "version": 3
   },
   "file_extension": ".py",
   "mimetype": "text/x-python",
   "name": "python",
   "nbconvert_exporter": "python",
   "pygments_lexer": "ipython3",
   "version": "3.10.11"
  }
 },
 "nbformat": 4,
 "nbformat_minor": 2
}
