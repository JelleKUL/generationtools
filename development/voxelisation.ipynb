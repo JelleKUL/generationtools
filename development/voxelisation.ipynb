{
 "cells": [
  {
   "cell_type": "markdown",
   "metadata": {},
   "source": [
    "# Voxelisation\n",
    "\n",
    "To perform a multi scale completion, we need data that can be completed at different scales, while being spacially consistent for the machine learning models.\n",
    "This is why we use voxel hierarchies, combined with TSDFs to generate the scene at multiple levels of detail."
   ]
  },
  {
   "cell_type": "markdown",
   "metadata": {},
   "source": [
    "## Open3D\n",
    "\n",
    "Using open3d we first sample the geometry to a uncolored voxelgrid, where the voxelsize is matched to a certain octree size.\n",
    "The centerpoints of each voxel are then used to determine the color and distance to the mesh."
   ]
  },
  {
   "cell_type": "code",
   "execution_count": 1,
   "metadata": {},
   "outputs": [
    {
     "name": "stdout",
     "output_type": "stream",
     "text": [
      "Jupyter environment detected. Enabling Open3D WebVisualizer.\n",
      "[Open3D INFO] WebRTC GUI backend enabled.\n",
      "[Open3D INFO] WebRTCWindowSystem: HTTP handshake server disabled.\n"
     ]
    }
   ],
   "source": [
    "%load_ext autoreload\n",
    "%autoreload 2\n",
    "import open3d as o3d\n",
    "import numpy as np"
   ]
  },
  {
   "cell_type": "code",
   "execution_count": null,
   "metadata": {},
   "outputs": [],
   "source": [
    "meshPath = r\"L:\\Recordings\\2023-11 Scannetpp\\data\\0a7cc12c0e\\scans\\mesh_aligned_0.05.ply\"\n",
    "semanticMeshPath = r\"L:\\Recordings\\2023-11 Scannetpp\\data\\0a7cc12c0e\\scans\\mesh_aligned_0.05_semantic.ply\"\n"
   ]
  },
  {
   "cell_type": "code",
   "execution_count": 2,
   "metadata": {},
   "outputs": [],
   "source": [
    "meshPath = r\"C:\\Users\\jelle\\Documents\\DoctoraatLocal\\generationtools\\data\\textured_table\\scene.gltf\""
   ]
  },
  {
   "cell_type": "code",
   "execution_count": 27,
   "metadata": {},
   "outputs": [
    {
     "name": "stdout",
     "output_type": "stream",
     "text": [
      "input\n"
     ]
    }
   ],
   "source": [
    "from context import generationtools as gnt\n",
    "\n",
    "octreeDepth = 8\n",
    "print('input')\n",
    "mesh = o3d.io.read_triangle_mesh(meshPath, True)\n",
    "# fit to unit cube\n",
    "mesh.scale(1 / np.max(mesh.get_max_bound() - mesh.get_min_bound()), center=mesh.get_center())\n",
    "o3d.visualization.draw_geometries([mesh])"
   ]
  },
  {
   "cell_type": "code",
   "execution_count": 30,
   "metadata": {},
   "outputs": [
    {
     "name": "stdout",
     "output_type": "stream",
     "text": [
      "voxelization\n",
      "Closest points computed\n",
      "colors sampled\n"
     ]
    }
   ],
   "source": [
    "\n",
    "print('voxelization')\n",
    "voxel_grid = o3d.geometry.VoxelGrid.create_from_triangle_mesh(mesh, voxel_size=1/(2**octreeDepth))\n",
    "voxelPoints = []\n",
    "voxelList = voxel_grid.get_voxels()\n",
    "for voxel in voxelList:\n",
    "    voxelCenterCoord = voxel_grid.get_voxel_center_coordinate(voxel.grid_index)\n",
    "    voxelPoints.append(voxelCenterCoord)\n",
    "\n",
    "colors, distances = gnt.get_point_pixel_colors_open3d(mesh,voxelPoints, getDistance=True)\n",
    "print(\"colors sampled\")\n",
    "\n"
   ]
  },
  {
   "cell_type": "code",
   "execution_count": 33,
   "metadata": {},
   "outputs": [],
   "source": [
    "class InfoVoxel(o3d.geometry.Voxel):\n",
    "    \n",
    "    distance = 0\n",
    "    segmentationIndex = 0\n",
    "\n",
    "    def __init__ (self,distance: float = 0, segmentationIndex:int = 0, **kwargs):\n",
    "        super().__init__(**kwargs)\n",
    "        self.distance = distance\n",
    "        self.segmentationIndex = segmentationIndex"
   ]
  },
  {
   "cell_type": "code",
   "execution_count": 34,
   "metadata": {},
   "outputs": [],
   "source": [
    "i = 0\n",
    "for voxel in voxelList:\n",
    "    newVoxel = InfoVoxel(grid_index = voxel.grid_index, color = colors[i] / 256.0, distance = distances)\n",
    "    voxel_grid.remove_voxel(voxel.grid_index)\n",
    "    voxel_grid.add_voxel(newVoxel)\n",
    "    i+=1\n",
    "\n",
    "o3d.visualization.draw_geometries([voxel_grid])"
   ]
  },
  {
   "cell_type": "code",
   "execution_count": 25,
   "metadata": {},
   "outputs": [
    {
     "name": "stdout",
     "output_type": "stream",
     "text": [
      "[Open3D WARNING] GLFW Error: WGL: Failed to make context current: The handle is invalid. \n"
     ]
    }
   ],
   "source": [
    "voxelOctree = voxel_grid.to_octree(octreeDepth)\n",
    "\n",
    "o3d.visualization.draw_geometries([voxelOctree])"
   ]
  },
  {
   "cell_type": "code",
   "execution_count": 42,
   "metadata": {},
   "outputs": [
    {
     "name": "stdout",
     "output_type": "stream",
     "text": [
      "IntVector[0, 0, 0, 0, 0, 0, 0, 0, 0, 0, 0, 0, 0, 0, 0, 0, 0, 0, 0, 0, 0, 0, 0, 0, 0, 0, 0, 0, 0, 0, 0, 0, 0, 0, 0, 0, 0, 0, 0, 0, 0, 0, 0, 0, 0, 0, 0, 0, 0, 0, 0, 0, 0, 0, 0, 0, 0, 0, 0, 0, 0, 0, 0, 0, 0, 0, 0, 0, 0, 0, 0, 0, 0, 0, 0, 0, 0, 0, 0, 0, 0, 0, 0, 0, 0, 0, 0, 0, 0, 0, 0, 0, 0, 0, 0, 0, 0, 0, 0, 0, 0, 0, 0, 0, 0, 0, 0, 0, 0, 0, 0, 0, 0, 0, 0, 0, 0, 0, 0, 0, 0, 0, 0, 0, 0, 0, 0, 0, 0, 0, 0, 0, 0, 0, 0, 0, 0, 0, 0, 0, 0, 0, 0, 0, 0, 0, 0, 0, 0, 0, 0, 0, 0, 0, 0, 0, 0, 0, 0, 0, 0, 0, 0, 0, 0, 0, 0, 0, 0, 0, 0, 0, 0, 0, 0, 0, 0, 0, 0, 0, 0, 0, 0, 0, 0, 0, 0, 0, 0, 0, 0, 0, 0, 0, 0, 0, 0, 0, 0, 0, 0, 0, 0, 0, 0, 0, 0, 0]\n",
      "std::vector<Eigen::Vector3i> with 208 elements.\n",
      "Use numpy.asarray() to access data.\n"
     ]
    }
   ],
   "source": [
    "if(mesh.has_triangle_material_ids()):\n",
    "    print(mesh.triangle_material_ids)\n",
    "    print(mesh.triangles)"
   ]
  },
  {
   "cell_type": "code",
   "execution_count": null,
   "metadata": {},
   "outputs": [],
   "source": [
    "print('input')\n",
    "N = 1000000\n",
    "\n",
    "\n",
    "mesh = o3d.io.read_triangle_mesh(meshPath)\n",
    "pcd = mesh.sample_points_uniformly(N)\n",
    "# fit to unit cube\n",
    "pcd.scale(1 / np.max(pcd.get_max_bound() - pcd.get_min_bound()),\n",
    "          center=pcd.get_center())\n",
    "#pcd.colors = o3d.utility.Vector3dVector(np.random.uniform(0, 1, size=(N, 3)))\n",
    "o3d.visualization.draw_geometries([pcd])\n"
   ]
  },
  {
   "cell_type": "code",
   "execution_count": null,
   "metadata": {},
   "outputs": [],
   "source": [
    "\n",
    "print('octree division')\n",
    "octree = o3d.geometry.Octree(max_depth=8)\n",
    "octree.convert_from_point_cloud(pcd, size_expand=0.01)\n",
    "o3d.visualization.draw_geometries([octree])"
   ]
  },
  {
   "cell_type": "code",
   "execution_count": null,
   "metadata": {},
   "outputs": [],
   "source": [
    "octreenode = octree.locate_leaf_node(pcd.points[0])\n",
    "\n",
    "print(octreenode[0])"
   ]
  },
  {
   "cell_type": "code",
   "execution_count": null,
   "metadata": {},
   "outputs": [],
   "source": [
    "def f_traverse(node, node_info):\n",
    "    early_stop = False\n",
    "\n",
    "    if isinstance(node, o3d.geometry.OctreeInternalNode):\n",
    "        if isinstance(node, o3d.geometry.OctreeInternalPointNode):\n",
    "            n = 0\n",
    "            for child in node.children:\n",
    "                if child is not None:\n",
    "                    n += 1\n",
    "            print(\n",
    "                \"{}{}: Internal node at depth {} has {} children and {} points ({})\"\n",
    "                .format('    ' * node_info.depth,\n",
    "                        node_info.child_index, node_info.depth, n,\n",
    "                        len(node.indices), node_info.origin))\n",
    "\n",
    "            # we only want to process nodes / spatial regions with enough points\n",
    "            early_stop = len(node.indices) < 250\n",
    "    elif isinstance(node, o3d.geometry.OctreeLeafNode):\n",
    "        if isinstance(node, o3d.geometry.OctreePointColorLeafNode):\n",
    "            print(\"{}{}: Leaf node at depth {} has {} points with origin {}\".\n",
    "                  format('    ' * node_info.depth, node_info.child_index,\n",
    "                         node_info.depth, len(node.indices), node_info.origin))\n",
    "    else:\n",
    "        raise NotImplementedError('Node type not recognized!')\n",
    "\n",
    "    # early stopping: if True, traversal of children of the current node will be skipped\n",
    "    return early_stop"
   ]
  },
  {
   "cell_type": "code",
   "execution_count": null,
   "metadata": {},
   "outputs": [],
   "source": [
    "octree.traverse(f_traverse)"
   ]
  },
  {
   "cell_type": "markdown",
   "metadata": {},
   "source": [
    "### Trimesh"
   ]
  },
  {
   "cell_type": "code",
   "execution_count": null,
   "metadata": {},
   "outputs": [],
   "source": [
    "import trimesh\n",
    "import numpy as np\n",
    "import generationtools as gnt\n",
    "\n",
    "mesh = trimesh.load(meshPath)\n",
    "scale = 1 / np.max(mesh.extents)\n",
    "center = mesh.centroid\n",
    "for3matx = np.hstack((np.identity(3) * scale, center.reshape((3,1)) ))\n",
    "transformMtx = np.vstack((for3matx, [0,0,0,1]))\n",
    "print(transformMtx)\n",
    "mesh.apply_transform(transformMtx)"
   ]
  },
  {
   "cell_type": "code",
   "execution_count": null,
   "metadata": {},
   "outputs": [],
   "source": [
    "voxelSize = 64\n",
    "angel_voxel = mesh.voxelized(1/(voxelSize-1)).hollow()\n",
    "print(angel_voxel.shape)"
   ]
  },
  {
   "cell_type": "code",
   "execution_count": null,
   "metadata": {},
   "outputs": [],
   "source": [
    "voxelPoints = angel_voxel.points\n",
    "voxelColors = gnt.get_point_colors_trimesh(mesh, voxelPoints)"
   ]
  },
  {
   "cell_type": "code",
   "execution_count": null,
   "metadata": {},
   "outputs": [],
   "source": [
    "ids = angel_voxel.points_to_indices(voxelPoints)\n",
    "\n",
    "# We initialize a array of zeros of size X,Y,Z,4 to contain the colors for each voxel of the voxelized mesh in the grid\n",
    "cube_color=np.zeros([angel_voxel.shape[0],angel_voxel.shape[1],angel_voxel.shape[2],4])\n",
    "\n",
    "for i in range(len(voxelPoints)):\n",
    "    cube_color[ids[i][0],ids[i][1], ids[i][2],:] = voxelColors[i]"
   ]
  },
  {
   "cell_type": "code",
   "execution_count": null,
   "metadata": {},
   "outputs": [],
   "source": [
    "# generate a voxelized mesh from the voxel grid representation, using the calculated colors \n",
    "voxelized_mesh = angel_voxel.as_boxes(colors=cube_color, )\n",
    "\n",
    "# Initialize a scene\n",
    "s = trimesh.Scene()\n",
    "# Add the voxelized mesh to the scene. If want to also show the intial mesh uncomment the second line and change the alpha channel of in the loop to something <100\n",
    "s.add_geometry(voxelized_mesh)\n",
    "# s.add_geometry(mesh)\n",
    "s.show()"
   ]
  },
  {
   "cell_type": "markdown",
   "metadata": {},
   "source": [
    "### Barycentric coordinates"
   ]
  },
  {
   "cell_type": "code",
   "execution_count": null,
   "metadata": {},
   "outputs": [],
   "source": [
    "from context import generationtools as gnt\n",
    "import numpy as np\n",
    "p = np.array((1,1,1))\n",
    "a = np.array((0,0,1))\n",
    "b = np.array((3,0,1))\n",
    "c = np.array((0,10,1))\n",
    "u,v,w = gnt.carthesian_to_barycentric(p,a ,b ,c )\n",
    "print(u,v,w)"
   ]
  },
  {
   "cell_type": "code",
   "execution_count": null,
   "metadata": {},
   "outputs": [],
   "source": [
    "gnt.barycentric_to_carthesian(a,b,c, u, v, w)"
   ]
  }
 ],
 "metadata": {
  "kernelspec": {
   "display_name": "env",
   "language": "python",
   "name": "python3"
  },
  "language_info": {
   "codemirror_mode": {
    "name": "ipython",
    "version": 3
   },
   "file_extension": ".py",
   "mimetype": "text/x-python",
   "name": "python",
   "nbconvert_exporter": "python",
   "pygments_lexer": "ipython3",
   "version": "3.10.11"
  }
 },
 "nbformat": 4,
 "nbformat_minor": 2
}
