{
 "cells": [
  {
   "cell_type": "markdown",
   "metadata": {},
   "source": [
    "# Automatic UV Unwrapping methods"
   ]
  },
  {
   "cell_type": "markdown",
   "metadata": {},
   "source": [
    "## XAtlas\n",
    "\n",
    "Our first method is the "
   ]
  },
  {
   "cell_type": "code",
   "execution_count": null,
   "metadata": {},
   "outputs": [],
   "source": [
    "import trimesh\n",
    "import xatlas\n",
    "\n",
    "# We use trimesh (https://github.com/mikedh/trimesh) to load a mesh but you can use any library.\n",
    "mesh = trimesh.load_mesh(\"input.obj\")\n",
    "\n",
    "# The parametrization potentially duplicates vertices.\n",
    "# `vmapping` contains the original vertex index for each new vertex (shape N, type uint32).\n",
    "# `indices` contains the vertex indices of the new triangles (shape Fx3, type uint32)\n",
    "# `uvs` contains texture coordinates of the new vertices (shape Nx2, type float32)\n",
    "vmapping, indices, uvs = xatlas.parametrize(mesh.vertices, mesh.faces)\n",
    "\n",
    "# Trimesh needs a material to export uv coordinates and always creates a *.mtl file.\n",
    "# Alternatively, we can use the `export` helper function to export the mesh as obj.\n",
    "xatlas.export(\"output.obj\", mesh.vertices[vmapping], indices, uvs)\n",
    "\n",
    "# Both `xatlas.parametrize` and `xatlas.export` also accept vertex normals"
   ]
  },
  {
   "cell_type": "code",
   "execution_count": null,
   "metadata": {},
   "outputs": [],
   "source": []
  }
 ],
 "metadata": {
  "kernelspec": {
   "display_name": "env",
   "language": "python",
   "name": "python3"
  },
  "language_info": {
   "name": "python",
   "version": "3.10.11"
  }
 },
 "nbformat": 4,
 "nbformat_minor": 2
}
